{
 "cells": [
  {
   "cell_type": "code",
   "execution_count": 1,
   "id": "520e44c9",
   "metadata": {},
   "outputs": [],
   "source": [
    "## Samuel Méndez Villegas - A016522777\n",
    "## Uso de un framework/librería para implementar un modelo de ML\n",
    "\n",
    "'''\n",
    "En este código se presenta la implementación de dos modelos de Machine Learning (ML), más concretamente de\n",
    "un 'Random Forest Classifier' y un 'Random Forest Regressor'. Los modelos forman parte de la lista de algoritmos supervisados \n",
    "de ML y se caracterisan por crear 'n' subconjuntos de datos del set de entrenamiento y posteriormente, generar un árbol de \n",
    "decisión por cada subconjunto. Después de la creación de los árboles, se realiza una predicción de cada árbol, y se obtiene \n",
    "un resultado.\n",
    "Dichos resultados pasan a un tipo de 'votación' en donde se escoge la clase más votada (en caso de clasificación), o \n",
    "el promedio de los resultados (en caso de regresión).\n",
    "\n",
    "Para la implementación de esta librería, se utilizará la librería scikit-learn la cual incluye las funciones\n",
    "'RandomForestClassifier()' y 'RandomForestRegressor()' que reciben el conjunto de entrenamiento y posteriormente\n",
    "el conjunto de prueba para realizar predicciones.\n",
    "\n",
    "En cuanto a la base de datos que se utilizará, es la base de datos de diabetes, en la cual se tratará de predecir\n",
    "(en el caso del clasificador) si un individuo padece de diabetes dada una serie de características como el nivel de glucosa, el número embarazos,\n",
    "la edad, entre otras.\n",
    "\n",
    "En el caso del regresor, este tiene el objetivo de predecir el BMI de una persona a partir de una serie de características\n",
    "similares a las del clasificador. \n",
    "\n",
    "Finalmente, se realiza la evaluación de los modelos implementados con ayuda de algunas métricas como el 'mean squared \n",
    "error', el 'mean absolute error', y la matriz de confusión. \n",
    "'''\n",
    "\n",
    "## Librerías a utilizar\n",
    "import pandas as pd\n",
    "import numpy as np\n",
    "import matplotlib.pyplot as plt\n",
    "import seaborn as sn\n",
    "\n",
    "## Librerías para implementar el modelo\n",
    "from sklearn.model_selection import train_test_split # Separar el set de datos en entrenamiento y prueba\n",
    "from sklearn.ensemble import RandomForestClassifier # Clasificador a utilizar\n",
    "from sklearn.ensemble import RandomForestRegressor # Regresor a utilizar\n",
    "from sklearn.metrics import mean_squared_error, mean_absolute_error, r2_score, confusion_matrix, accuracy_score # Medidas de evaluación"
   ]
  },
  {
   "cell_type": "code",
   "execution_count": 2,
   "id": "506d0a53",
   "metadata": {},
   "outputs": [
    {
     "data": {
      "text/html": [
       "<div>\n",
       "<style scoped>\n",
       "    .dataframe tbody tr th:only-of-type {\n",
       "        vertical-align: middle;\n",
       "    }\n",
       "\n",
       "    .dataframe tbody tr th {\n",
       "        vertical-align: top;\n",
       "    }\n",
       "\n",
       "    .dataframe thead th {\n",
       "        text-align: right;\n",
       "    }\n",
       "</style>\n",
       "<table border=\"1\" class=\"dataframe\">\n",
       "  <thead>\n",
       "    <tr style=\"text-align: right;\">\n",
       "      <th></th>\n",
       "      <th>Pregnancies</th>\n",
       "      <th>Glucose</th>\n",
       "      <th>BloodPressure</th>\n",
       "      <th>SkinThickness</th>\n",
       "      <th>Insulin</th>\n",
       "      <th>BMI</th>\n",
       "      <th>DiabetesPedigreeFunction</th>\n",
       "      <th>Age</th>\n",
       "      <th>Outcome</th>\n",
       "    </tr>\n",
       "  </thead>\n",
       "  <tbody>\n",
       "    <tr>\n",
       "      <th>0</th>\n",
       "      <td>6</td>\n",
       "      <td>148</td>\n",
       "      <td>72</td>\n",
       "      <td>35</td>\n",
       "      <td>0</td>\n",
       "      <td>33.6</td>\n",
       "      <td>0.627</td>\n",
       "      <td>50</td>\n",
       "      <td>1</td>\n",
       "    </tr>\n",
       "    <tr>\n",
       "      <th>1</th>\n",
       "      <td>1</td>\n",
       "      <td>85</td>\n",
       "      <td>66</td>\n",
       "      <td>29</td>\n",
       "      <td>0</td>\n",
       "      <td>26.6</td>\n",
       "      <td>0.351</td>\n",
       "      <td>31</td>\n",
       "      <td>0</td>\n",
       "    </tr>\n",
       "    <tr>\n",
       "      <th>2</th>\n",
       "      <td>8</td>\n",
       "      <td>183</td>\n",
       "      <td>64</td>\n",
       "      <td>0</td>\n",
       "      <td>0</td>\n",
       "      <td>23.3</td>\n",
       "      <td>0.672</td>\n",
       "      <td>32</td>\n",
       "      <td>1</td>\n",
       "    </tr>\n",
       "    <tr>\n",
       "      <th>3</th>\n",
       "      <td>1</td>\n",
       "      <td>89</td>\n",
       "      <td>66</td>\n",
       "      <td>23</td>\n",
       "      <td>94</td>\n",
       "      <td>28.1</td>\n",
       "      <td>0.167</td>\n",
       "      <td>21</td>\n",
       "      <td>0</td>\n",
       "    </tr>\n",
       "    <tr>\n",
       "      <th>4</th>\n",
       "      <td>0</td>\n",
       "      <td>137</td>\n",
       "      <td>40</td>\n",
       "      <td>35</td>\n",
       "      <td>168</td>\n",
       "      <td>43.1</td>\n",
       "      <td>2.288</td>\n",
       "      <td>33</td>\n",
       "      <td>1</td>\n",
       "    </tr>\n",
       "  </tbody>\n",
       "</table>\n",
       "</div>"
      ],
      "text/plain": [
       "   Pregnancies  Glucose  BloodPressure  SkinThickness  Insulin   BMI  \\\n",
       "0            6      148             72             35        0  33.6   \n",
       "1            1       85             66             29        0  26.6   \n",
       "2            8      183             64              0        0  23.3   \n",
       "3            1       89             66             23       94  28.1   \n",
       "4            0      137             40             35      168  43.1   \n",
       "\n",
       "   DiabetesPedigreeFunction  Age  Outcome  \n",
       "0                     0.627   50        1  \n",
       "1                     0.351   31        0  \n",
       "2                     0.672   32        1  \n",
       "3                     0.167   21        0  \n",
       "4                     2.288   33        1  "
      ]
     },
     "execution_count": 2,
     "metadata": {},
     "output_type": "execute_result"
    }
   ],
   "source": [
    "'''\n",
    "EXPLORACIÓN DE LA BASE DE DATOS Y UN POCO DE LIMPIEZA\n",
    "\n",
    "En esta pequeña sección se pasará a visualizar los datos y realizar un pequeño análisis exploratorio de éstos antes\n",
    "de aplicar el modelo de machine learning.\n",
    "'''\n",
    "## Carga de los datos a utilizar\n",
    "df = pd.read_csv('diabetes.csv')\n",
    "df.head()"
   ]
  },
  {
   "cell_type": "code",
   "execution_count": 3,
   "id": "c8e5b33d",
   "metadata": {},
   "outputs": [
    {
     "data": {
      "text/plain": [
       "(768, 9)"
      ]
     },
     "execution_count": 3,
     "metadata": {},
     "output_type": "execute_result"
    }
   ],
   "source": [
    "## Dimensiones del data frame\n",
    "df.shape"
   ]
  },
  {
   "cell_type": "code",
   "execution_count": 4,
   "id": "50c0155d",
   "metadata": {},
   "outputs": [
    {
     "data": {
      "text/plain": [
       "0"
      ]
     },
     "execution_count": 4,
     "metadata": {},
     "output_type": "execute_result"
    }
   ],
   "source": [
    "## Evaluación de datos duplicados\n",
    "df.duplicated().sum()"
   ]
  },
  {
   "cell_type": "code",
   "execution_count": 5,
   "id": "538306f3",
   "metadata": {},
   "outputs": [
    {
     "data": {
      "text/plain": [
       "Pregnancies                 0\n",
       "Glucose                     0\n",
       "BloodPressure               0\n",
       "SkinThickness               0\n",
       "Insulin                     0\n",
       "BMI                         0\n",
       "DiabetesPedigreeFunction    0\n",
       "Age                         0\n",
       "Outcome                     0\n",
       "dtype: int64"
      ]
     },
     "execution_count": 5,
     "metadata": {},
     "output_type": "execute_result"
    }
   ],
   "source": [
    "## Evaluación de datos nulos\n",
    "df.isnull().sum()"
   ]
  },
  {
   "cell_type": "code",
   "execution_count": 6,
   "id": "03fe16bb",
   "metadata": {},
   "outputs": [
    {
     "data": {
      "text/html": [
       "<div>\n",
       "<style scoped>\n",
       "    .dataframe tbody tr th:only-of-type {\n",
       "        vertical-align: middle;\n",
       "    }\n",
       "\n",
       "    .dataframe tbody tr th {\n",
       "        vertical-align: top;\n",
       "    }\n",
       "\n",
       "    .dataframe thead th {\n",
       "        text-align: right;\n",
       "    }\n",
       "</style>\n",
       "<table border=\"1\" class=\"dataframe\">\n",
       "  <thead>\n",
       "    <tr style=\"text-align: right;\">\n",
       "      <th></th>\n",
       "      <th>Pregnancies</th>\n",
       "      <th>Glucose</th>\n",
       "      <th>BloodPressure</th>\n",
       "      <th>SkinThickness</th>\n",
       "      <th>Insulin</th>\n",
       "      <th>BMI</th>\n",
       "      <th>DiabetesPedigreeFunction</th>\n",
       "      <th>Age</th>\n",
       "      <th>Outcome</th>\n",
       "    </tr>\n",
       "  </thead>\n",
       "  <tbody>\n",
       "    <tr>\n",
       "      <th>count</th>\n",
       "      <td>768.000000</td>\n",
       "      <td>768.000000</td>\n",
       "      <td>768.000000</td>\n",
       "      <td>768.000000</td>\n",
       "      <td>768.000000</td>\n",
       "      <td>768.000000</td>\n",
       "      <td>768.000000</td>\n",
       "      <td>768.000000</td>\n",
       "      <td>768.000000</td>\n",
       "    </tr>\n",
       "    <tr>\n",
       "      <th>mean</th>\n",
       "      <td>3.845052</td>\n",
       "      <td>120.894531</td>\n",
       "      <td>69.105469</td>\n",
       "      <td>20.536458</td>\n",
       "      <td>79.799479</td>\n",
       "      <td>31.992578</td>\n",
       "      <td>0.471876</td>\n",
       "      <td>33.240885</td>\n",
       "      <td>0.348958</td>\n",
       "    </tr>\n",
       "    <tr>\n",
       "      <th>std</th>\n",
       "      <td>3.369578</td>\n",
       "      <td>31.972618</td>\n",
       "      <td>19.355807</td>\n",
       "      <td>15.952218</td>\n",
       "      <td>115.244002</td>\n",
       "      <td>7.884160</td>\n",
       "      <td>0.331329</td>\n",
       "      <td>11.760232</td>\n",
       "      <td>0.476951</td>\n",
       "    </tr>\n",
       "    <tr>\n",
       "      <th>min</th>\n",
       "      <td>0.000000</td>\n",
       "      <td>0.000000</td>\n",
       "      <td>0.000000</td>\n",
       "      <td>0.000000</td>\n",
       "      <td>0.000000</td>\n",
       "      <td>0.000000</td>\n",
       "      <td>0.078000</td>\n",
       "      <td>21.000000</td>\n",
       "      <td>0.000000</td>\n",
       "    </tr>\n",
       "    <tr>\n",
       "      <th>25%</th>\n",
       "      <td>1.000000</td>\n",
       "      <td>99.000000</td>\n",
       "      <td>62.000000</td>\n",
       "      <td>0.000000</td>\n",
       "      <td>0.000000</td>\n",
       "      <td>27.300000</td>\n",
       "      <td>0.243750</td>\n",
       "      <td>24.000000</td>\n",
       "      <td>0.000000</td>\n",
       "    </tr>\n",
       "    <tr>\n",
       "      <th>50%</th>\n",
       "      <td>3.000000</td>\n",
       "      <td>117.000000</td>\n",
       "      <td>72.000000</td>\n",
       "      <td>23.000000</td>\n",
       "      <td>30.500000</td>\n",
       "      <td>32.000000</td>\n",
       "      <td>0.372500</td>\n",
       "      <td>29.000000</td>\n",
       "      <td>0.000000</td>\n",
       "    </tr>\n",
       "    <tr>\n",
       "      <th>75%</th>\n",
       "      <td>6.000000</td>\n",
       "      <td>140.250000</td>\n",
       "      <td>80.000000</td>\n",
       "      <td>32.000000</td>\n",
       "      <td>127.250000</td>\n",
       "      <td>36.600000</td>\n",
       "      <td>0.626250</td>\n",
       "      <td>41.000000</td>\n",
       "      <td>1.000000</td>\n",
       "    </tr>\n",
       "    <tr>\n",
       "      <th>max</th>\n",
       "      <td>17.000000</td>\n",
       "      <td>199.000000</td>\n",
       "      <td>122.000000</td>\n",
       "      <td>99.000000</td>\n",
       "      <td>846.000000</td>\n",
       "      <td>67.100000</td>\n",
       "      <td>2.420000</td>\n",
       "      <td>81.000000</td>\n",
       "      <td>1.000000</td>\n",
       "    </tr>\n",
       "  </tbody>\n",
       "</table>\n",
       "</div>"
      ],
      "text/plain": [
       "       Pregnancies     Glucose  BloodPressure  SkinThickness     Insulin  \\\n",
       "count   768.000000  768.000000     768.000000     768.000000  768.000000   \n",
       "mean      3.845052  120.894531      69.105469      20.536458   79.799479   \n",
       "std       3.369578   31.972618      19.355807      15.952218  115.244002   \n",
       "min       0.000000    0.000000       0.000000       0.000000    0.000000   \n",
       "25%       1.000000   99.000000      62.000000       0.000000    0.000000   \n",
       "50%       3.000000  117.000000      72.000000      23.000000   30.500000   \n",
       "75%       6.000000  140.250000      80.000000      32.000000  127.250000   \n",
       "max      17.000000  199.000000     122.000000      99.000000  846.000000   \n",
       "\n",
       "              BMI  DiabetesPedigreeFunction         Age     Outcome  \n",
       "count  768.000000                768.000000  768.000000  768.000000  \n",
       "mean    31.992578                  0.471876   33.240885    0.348958  \n",
       "std      7.884160                  0.331329   11.760232    0.476951  \n",
       "min      0.000000                  0.078000   21.000000    0.000000  \n",
       "25%     27.300000                  0.243750   24.000000    0.000000  \n",
       "50%     32.000000                  0.372500   29.000000    0.000000  \n",
       "75%     36.600000                  0.626250   41.000000    1.000000  \n",
       "max     67.100000                  2.420000   81.000000    1.000000  "
      ]
     },
     "execution_count": 6,
     "metadata": {},
     "output_type": "execute_result"
    }
   ],
   "source": [
    "## Análisis descriptivo de las variables numéricas\n",
    "df.describe()"
   ]
  },
  {
   "cell_type": "code",
   "execution_count": 7,
   "id": "dc43b78b",
   "metadata": {},
   "outputs": [
    {
     "data": {
      "text/plain": [
       "'\\nGracias al resumen de estadística descriptiva que ofrece `describe`, se observa que se tienen registros con\\nvalores de 0 en algunas columnas como presión sanguinea, o en el ínidice de masa muscular, por lo que se pasa \\na identificar dichos registros\\n'"
      ]
     },
     "execution_count": 7,
     "metadata": {},
     "output_type": "execute_result"
    }
   ],
   "source": [
    "'''\n",
    "Gracias al resumen de estadística descriptiva que ofrece `describe`, se observa que se tienen registros con\n",
    "valores de 0 en algunas columnas como presión sanguinea, o en el ínidice de masa muscular, por lo que se pasa \n",
    "a identificar dichos registros\n",
    "'''"
   ]
  },
  {
   "cell_type": "code",
   "execution_count": 8,
   "id": "4f67b423",
   "metadata": {},
   "outputs": [
    {
     "data": {
      "text/html": [
       "<div>\n",
       "<style scoped>\n",
       "    .dataframe tbody tr th:only-of-type {\n",
       "        vertical-align: middle;\n",
       "    }\n",
       "\n",
       "    .dataframe tbody tr th {\n",
       "        vertical-align: top;\n",
       "    }\n",
       "\n",
       "    .dataframe thead th {\n",
       "        text-align: right;\n",
       "    }\n",
       "</style>\n",
       "<table border=\"1\" class=\"dataframe\">\n",
       "  <thead>\n",
       "    <tr style=\"text-align: right;\">\n",
       "      <th></th>\n",
       "      <th>Pregnancies</th>\n",
       "      <th>Glucose</th>\n",
       "      <th>BloodPressure</th>\n",
       "      <th>SkinThickness</th>\n",
       "      <th>Insulin</th>\n",
       "      <th>BMI</th>\n",
       "      <th>DiabetesPedigreeFunction</th>\n",
       "      <th>Age</th>\n",
       "      <th>Outcome</th>\n",
       "    </tr>\n",
       "  </thead>\n",
       "  <tbody>\n",
       "    <tr>\n",
       "      <th>7</th>\n",
       "      <td>10</td>\n",
       "      <td>115</td>\n",
       "      <td>0</td>\n",
       "      <td>0</td>\n",
       "      <td>0</td>\n",
       "      <td>35.3</td>\n",
       "      <td>0.134</td>\n",
       "      <td>29</td>\n",
       "      <td>0</td>\n",
       "    </tr>\n",
       "    <tr>\n",
       "      <th>15</th>\n",
       "      <td>7</td>\n",
       "      <td>100</td>\n",
       "      <td>0</td>\n",
       "      <td>0</td>\n",
       "      <td>0</td>\n",
       "      <td>30.0</td>\n",
       "      <td>0.484</td>\n",
       "      <td>32</td>\n",
       "      <td>1</td>\n",
       "    </tr>\n",
       "    <tr>\n",
       "      <th>49</th>\n",
       "      <td>7</td>\n",
       "      <td>105</td>\n",
       "      <td>0</td>\n",
       "      <td>0</td>\n",
       "      <td>0</td>\n",
       "      <td>0.0</td>\n",
       "      <td>0.305</td>\n",
       "      <td>24</td>\n",
       "      <td>0</td>\n",
       "    </tr>\n",
       "    <tr>\n",
       "      <th>60</th>\n",
       "      <td>2</td>\n",
       "      <td>84</td>\n",
       "      <td>0</td>\n",
       "      <td>0</td>\n",
       "      <td>0</td>\n",
       "      <td>0.0</td>\n",
       "      <td>0.304</td>\n",
       "      <td>21</td>\n",
       "      <td>0</td>\n",
       "    </tr>\n",
       "    <tr>\n",
       "      <th>78</th>\n",
       "      <td>0</td>\n",
       "      <td>131</td>\n",
       "      <td>0</td>\n",
       "      <td>0</td>\n",
       "      <td>0</td>\n",
       "      <td>43.2</td>\n",
       "      <td>0.270</td>\n",
       "      <td>26</td>\n",
       "      <td>1</td>\n",
       "    </tr>\n",
       "  </tbody>\n",
       "</table>\n",
       "</div>"
      ],
      "text/plain": [
       "    Pregnancies  Glucose  BloodPressure  SkinThickness  Insulin   BMI  \\\n",
       "7            10      115              0              0        0  35.3   \n",
       "15            7      100              0              0        0  30.0   \n",
       "49            7      105              0              0        0   0.0   \n",
       "60            2       84              0              0        0   0.0   \n",
       "78            0      131              0              0        0  43.2   \n",
       "\n",
       "    DiabetesPedigreeFunction  Age  Outcome  \n",
       "7                      0.134   29        0  \n",
       "15                     0.484   32        1  \n",
       "49                     0.305   24        0  \n",
       "60                     0.304   21        0  \n",
       "78                     0.270   26        1  "
      ]
     },
     "execution_count": 8,
     "metadata": {},
     "output_type": "execute_result"
    }
   ],
   "source": [
    "df[df['BloodPressure'] == 0].head()"
   ]
  },
  {
   "cell_type": "code",
   "execution_count": 9,
   "id": "528e9c15",
   "metadata": {},
   "outputs": [
    {
     "data": {
      "text/html": [
       "<div>\n",
       "<style scoped>\n",
       "    .dataframe tbody tr th:only-of-type {\n",
       "        vertical-align: middle;\n",
       "    }\n",
       "\n",
       "    .dataframe tbody tr th {\n",
       "        vertical-align: top;\n",
       "    }\n",
       "\n",
       "    .dataframe thead th {\n",
       "        text-align: right;\n",
       "    }\n",
       "</style>\n",
       "<table border=\"1\" class=\"dataframe\">\n",
       "  <thead>\n",
       "    <tr style=\"text-align: right;\">\n",
       "      <th></th>\n",
       "      <th>Pregnancies</th>\n",
       "      <th>Glucose</th>\n",
       "      <th>BloodPressure</th>\n",
       "      <th>SkinThickness</th>\n",
       "      <th>Insulin</th>\n",
       "      <th>BMI</th>\n",
       "      <th>DiabetesPedigreeFunction</th>\n",
       "      <th>Age</th>\n",
       "      <th>Outcome</th>\n",
       "    </tr>\n",
       "  </thead>\n",
       "  <tbody>\n",
       "    <tr>\n",
       "      <th>0</th>\n",
       "      <td>6</td>\n",
       "      <td>148</td>\n",
       "      <td>72</td>\n",
       "      <td>35</td>\n",
       "      <td>0</td>\n",
       "      <td>33.6</td>\n",
       "      <td>0.627</td>\n",
       "      <td>50</td>\n",
       "      <td>1</td>\n",
       "    </tr>\n",
       "    <tr>\n",
       "      <th>1</th>\n",
       "      <td>1</td>\n",
       "      <td>85</td>\n",
       "      <td>66</td>\n",
       "      <td>29</td>\n",
       "      <td>0</td>\n",
       "      <td>26.6</td>\n",
       "      <td>0.351</td>\n",
       "      <td>31</td>\n",
       "      <td>0</td>\n",
       "    </tr>\n",
       "    <tr>\n",
       "      <th>2</th>\n",
       "      <td>8</td>\n",
       "      <td>183</td>\n",
       "      <td>64</td>\n",
       "      <td>0</td>\n",
       "      <td>0</td>\n",
       "      <td>23.3</td>\n",
       "      <td>0.672</td>\n",
       "      <td>32</td>\n",
       "      <td>1</td>\n",
       "    </tr>\n",
       "    <tr>\n",
       "      <th>5</th>\n",
       "      <td>5</td>\n",
       "      <td>116</td>\n",
       "      <td>74</td>\n",
       "      <td>0</td>\n",
       "      <td>0</td>\n",
       "      <td>25.6</td>\n",
       "      <td>0.201</td>\n",
       "      <td>30</td>\n",
       "      <td>0</td>\n",
       "    </tr>\n",
       "    <tr>\n",
       "      <th>7</th>\n",
       "      <td>10</td>\n",
       "      <td>115</td>\n",
       "      <td>0</td>\n",
       "      <td>0</td>\n",
       "      <td>0</td>\n",
       "      <td>35.3</td>\n",
       "      <td>0.134</td>\n",
       "      <td>29</td>\n",
       "      <td>0</td>\n",
       "    </tr>\n",
       "  </tbody>\n",
       "</table>\n",
       "</div>"
      ],
      "text/plain": [
       "   Pregnancies  Glucose  BloodPressure  SkinThickness  Insulin   BMI  \\\n",
       "0            6      148             72             35        0  33.6   \n",
       "1            1       85             66             29        0  26.6   \n",
       "2            8      183             64              0        0  23.3   \n",
       "5            5      116             74              0        0  25.6   \n",
       "7           10      115              0              0        0  35.3   \n",
       "\n",
       "   DiabetesPedigreeFunction  Age  Outcome  \n",
       "0                     0.627   50        1  \n",
       "1                     0.351   31        0  \n",
       "2                     0.672   32        1  \n",
       "5                     0.201   30        0  \n",
       "7                     0.134   29        0  "
      ]
     },
     "execution_count": 9,
     "metadata": {},
     "output_type": "execute_result"
    }
   ],
   "source": [
    "df[df['Insulin'] == 0].head()"
   ]
  },
  {
   "cell_type": "code",
   "execution_count": 10,
   "id": "02eb21e8",
   "metadata": {},
   "outputs": [
    {
     "data": {
      "text/html": [
       "<div>\n",
       "<style scoped>\n",
       "    .dataframe tbody tr th:only-of-type {\n",
       "        vertical-align: middle;\n",
       "    }\n",
       "\n",
       "    .dataframe tbody tr th {\n",
       "        vertical-align: top;\n",
       "    }\n",
       "\n",
       "    .dataframe thead th {\n",
       "        text-align: right;\n",
       "    }\n",
       "</style>\n",
       "<table border=\"1\" class=\"dataframe\">\n",
       "  <thead>\n",
       "    <tr style=\"text-align: right;\">\n",
       "      <th></th>\n",
       "      <th>Pregnancies</th>\n",
       "      <th>Glucose</th>\n",
       "      <th>BloodPressure</th>\n",
       "      <th>SkinThickness</th>\n",
       "      <th>Insulin</th>\n",
       "      <th>BMI</th>\n",
       "      <th>DiabetesPedigreeFunction</th>\n",
       "      <th>Age</th>\n",
       "      <th>Outcome</th>\n",
       "    </tr>\n",
       "  </thead>\n",
       "  <tbody>\n",
       "    <tr>\n",
       "      <th>9</th>\n",
       "      <td>8</td>\n",
       "      <td>125</td>\n",
       "      <td>96</td>\n",
       "      <td>0</td>\n",
       "      <td>0</td>\n",
       "      <td>0.0</td>\n",
       "      <td>0.232</td>\n",
       "      <td>54</td>\n",
       "      <td>1</td>\n",
       "    </tr>\n",
       "    <tr>\n",
       "      <th>49</th>\n",
       "      <td>7</td>\n",
       "      <td>105</td>\n",
       "      <td>0</td>\n",
       "      <td>0</td>\n",
       "      <td>0</td>\n",
       "      <td>0.0</td>\n",
       "      <td>0.305</td>\n",
       "      <td>24</td>\n",
       "      <td>0</td>\n",
       "    </tr>\n",
       "    <tr>\n",
       "      <th>60</th>\n",
       "      <td>2</td>\n",
       "      <td>84</td>\n",
       "      <td>0</td>\n",
       "      <td>0</td>\n",
       "      <td>0</td>\n",
       "      <td>0.0</td>\n",
       "      <td>0.304</td>\n",
       "      <td>21</td>\n",
       "      <td>0</td>\n",
       "    </tr>\n",
       "    <tr>\n",
       "      <th>81</th>\n",
       "      <td>2</td>\n",
       "      <td>74</td>\n",
       "      <td>0</td>\n",
       "      <td>0</td>\n",
       "      <td>0</td>\n",
       "      <td>0.0</td>\n",
       "      <td>0.102</td>\n",
       "      <td>22</td>\n",
       "      <td>0</td>\n",
       "    </tr>\n",
       "    <tr>\n",
       "      <th>145</th>\n",
       "      <td>0</td>\n",
       "      <td>102</td>\n",
       "      <td>75</td>\n",
       "      <td>23</td>\n",
       "      <td>0</td>\n",
       "      <td>0.0</td>\n",
       "      <td>0.572</td>\n",
       "      <td>21</td>\n",
       "      <td>0</td>\n",
       "    </tr>\n",
       "  </tbody>\n",
       "</table>\n",
       "</div>"
      ],
      "text/plain": [
       "     Pregnancies  Glucose  BloodPressure  SkinThickness  Insulin  BMI  \\\n",
       "9              8      125             96              0        0  0.0   \n",
       "49             7      105              0              0        0  0.0   \n",
       "60             2       84              0              0        0  0.0   \n",
       "81             2       74              0              0        0  0.0   \n",
       "145            0      102             75             23        0  0.0   \n",
       "\n",
       "     DiabetesPedigreeFunction  Age  Outcome  \n",
       "9                       0.232   54        1  \n",
       "49                      0.305   24        0  \n",
       "60                      0.304   21        0  \n",
       "81                      0.102   22        0  \n",
       "145                     0.572   21        0  "
      ]
     },
     "execution_count": 10,
     "metadata": {},
     "output_type": "execute_result"
    }
   ],
   "source": [
    "df[df['BMI'] == 0].head()"
   ]
  },
  {
   "cell_type": "code",
   "execution_count": 11,
   "id": "dd99891b",
   "metadata": {},
   "outputs": [
    {
     "data": {
      "text/plain": [
       "'\\nSe puede observar que la muchos de los registros tienen valores de 0, por lo que puede que en realidad se traten de\\nvalores faltantes que se llenaron con ceros. Por lo tanto, para tener un modelo un poco más limpio, se pasará a\\neliminar estos registros. \\n'"
      ]
     },
     "execution_count": 11,
     "metadata": {},
     "output_type": "execute_result"
    }
   ],
   "source": [
    "'''\n",
    "Se puede observar que la muchos de los registros tienen valores de 0, por lo que puede que en realidad se traten de\n",
    "valores faltantes que se llenaron con ceros. Por lo tanto, para tener un modelo un poco más limpio, se pasará a\n",
    "eliminar estos registros. \n",
    "'''"
   ]
  },
  {
   "cell_type": "code",
   "execution_count": 12,
   "id": "aaff5a41",
   "metadata": {},
   "outputs": [
    {
     "data": {
      "text/plain": [
       "(392, 9)"
      ]
     },
     "execution_count": 12,
     "metadata": {},
     "output_type": "execute_result"
    }
   ],
   "source": [
    "df = df[(df['BloodPressure'] > 0) & (df['Glucose'] > 0) & (df['SkinThickness'] > 0) & (df['Insulin'] > 0) & (df['BMI'] > 0)]\n",
    "df.shape"
   ]
  },
  {
   "cell_type": "code",
   "execution_count": 13,
   "id": "e32aa6c8",
   "metadata": {},
   "outputs": [
    {
     "data": {
      "text/html": [
       "<div>\n",
       "<style scoped>\n",
       "    .dataframe tbody tr th:only-of-type {\n",
       "        vertical-align: middle;\n",
       "    }\n",
       "\n",
       "    .dataframe tbody tr th {\n",
       "        vertical-align: top;\n",
       "    }\n",
       "\n",
       "    .dataframe thead th {\n",
       "        text-align: right;\n",
       "    }\n",
       "</style>\n",
       "<table border=\"1\" class=\"dataframe\">\n",
       "  <thead>\n",
       "    <tr style=\"text-align: right;\">\n",
       "      <th></th>\n",
       "      <th>Pregnancies</th>\n",
       "      <th>Glucose</th>\n",
       "      <th>BloodPressure</th>\n",
       "      <th>SkinThickness</th>\n",
       "      <th>Insulin</th>\n",
       "      <th>BMI</th>\n",
       "      <th>DiabetesPedigreeFunction</th>\n",
       "      <th>Age</th>\n",
       "      <th>Outcome</th>\n",
       "    </tr>\n",
       "  </thead>\n",
       "  <tbody>\n",
       "    <tr>\n",
       "      <th>count</th>\n",
       "      <td>392.000000</td>\n",
       "      <td>392.000000</td>\n",
       "      <td>392.000000</td>\n",
       "      <td>392.000000</td>\n",
       "      <td>392.000000</td>\n",
       "      <td>392.000000</td>\n",
       "      <td>392.000000</td>\n",
       "      <td>392.000000</td>\n",
       "      <td>392.000000</td>\n",
       "    </tr>\n",
       "    <tr>\n",
       "      <th>mean</th>\n",
       "      <td>3.301020</td>\n",
       "      <td>122.627551</td>\n",
       "      <td>70.663265</td>\n",
       "      <td>29.145408</td>\n",
       "      <td>156.056122</td>\n",
       "      <td>33.086224</td>\n",
       "      <td>0.523046</td>\n",
       "      <td>30.864796</td>\n",
       "      <td>0.331633</td>\n",
       "    </tr>\n",
       "    <tr>\n",
       "      <th>std</th>\n",
       "      <td>3.211424</td>\n",
       "      <td>30.860781</td>\n",
       "      <td>12.496092</td>\n",
       "      <td>10.516424</td>\n",
       "      <td>118.841690</td>\n",
       "      <td>7.027659</td>\n",
       "      <td>0.345488</td>\n",
       "      <td>10.200777</td>\n",
       "      <td>0.471401</td>\n",
       "    </tr>\n",
       "    <tr>\n",
       "      <th>min</th>\n",
       "      <td>0.000000</td>\n",
       "      <td>56.000000</td>\n",
       "      <td>24.000000</td>\n",
       "      <td>7.000000</td>\n",
       "      <td>14.000000</td>\n",
       "      <td>18.200000</td>\n",
       "      <td>0.085000</td>\n",
       "      <td>21.000000</td>\n",
       "      <td>0.000000</td>\n",
       "    </tr>\n",
       "    <tr>\n",
       "      <th>25%</th>\n",
       "      <td>1.000000</td>\n",
       "      <td>99.000000</td>\n",
       "      <td>62.000000</td>\n",
       "      <td>21.000000</td>\n",
       "      <td>76.750000</td>\n",
       "      <td>28.400000</td>\n",
       "      <td>0.269750</td>\n",
       "      <td>23.000000</td>\n",
       "      <td>0.000000</td>\n",
       "    </tr>\n",
       "    <tr>\n",
       "      <th>50%</th>\n",
       "      <td>2.000000</td>\n",
       "      <td>119.000000</td>\n",
       "      <td>70.000000</td>\n",
       "      <td>29.000000</td>\n",
       "      <td>125.500000</td>\n",
       "      <td>33.200000</td>\n",
       "      <td>0.449500</td>\n",
       "      <td>27.000000</td>\n",
       "      <td>0.000000</td>\n",
       "    </tr>\n",
       "    <tr>\n",
       "      <th>75%</th>\n",
       "      <td>5.000000</td>\n",
       "      <td>143.000000</td>\n",
       "      <td>78.000000</td>\n",
       "      <td>37.000000</td>\n",
       "      <td>190.000000</td>\n",
       "      <td>37.100000</td>\n",
       "      <td>0.687000</td>\n",
       "      <td>36.000000</td>\n",
       "      <td>1.000000</td>\n",
       "    </tr>\n",
       "    <tr>\n",
       "      <th>max</th>\n",
       "      <td>17.000000</td>\n",
       "      <td>198.000000</td>\n",
       "      <td>110.000000</td>\n",
       "      <td>63.000000</td>\n",
       "      <td>846.000000</td>\n",
       "      <td>67.100000</td>\n",
       "      <td>2.420000</td>\n",
       "      <td>81.000000</td>\n",
       "      <td>1.000000</td>\n",
       "    </tr>\n",
       "  </tbody>\n",
       "</table>\n",
       "</div>"
      ],
      "text/plain": [
       "       Pregnancies     Glucose  BloodPressure  SkinThickness     Insulin  \\\n",
       "count   392.000000  392.000000     392.000000     392.000000  392.000000   \n",
       "mean      3.301020  122.627551      70.663265      29.145408  156.056122   \n",
       "std       3.211424   30.860781      12.496092      10.516424  118.841690   \n",
       "min       0.000000   56.000000      24.000000       7.000000   14.000000   \n",
       "25%       1.000000   99.000000      62.000000      21.000000   76.750000   \n",
       "50%       2.000000  119.000000      70.000000      29.000000  125.500000   \n",
       "75%       5.000000  143.000000      78.000000      37.000000  190.000000   \n",
       "max      17.000000  198.000000     110.000000      63.000000  846.000000   \n",
       "\n",
       "              BMI  DiabetesPedigreeFunction         Age     Outcome  \n",
       "count  392.000000                392.000000  392.000000  392.000000  \n",
       "mean    33.086224                  0.523046   30.864796    0.331633  \n",
       "std      7.027659                  0.345488   10.200777    0.471401  \n",
       "min     18.200000                  0.085000   21.000000    0.000000  \n",
       "25%     28.400000                  0.269750   23.000000    0.000000  \n",
       "50%     33.200000                  0.449500   27.000000    0.000000  \n",
       "75%     37.100000                  0.687000   36.000000    1.000000  \n",
       "max     67.100000                  2.420000   81.000000    1.000000  "
      ]
     },
     "execution_count": 13,
     "metadata": {},
     "output_type": "execute_result"
    }
   ],
   "source": [
    "df.describe()"
   ]
  },
  {
   "cell_type": "code",
   "execution_count": 14,
   "id": "230b1d89",
   "metadata": {},
   "outputs": [
    {
     "data": {
      "text/plain": [
       "'\\nComo se puede observar en el nuevo describe, ya no se tienen valores mínimos en las variables en las no tenia sentido\\ntener un cero. Ya con este súper pequeño análisis de los datos, pasaremos a implementar el clasificador con bosques\\naleatorios.\\n'"
      ]
     },
     "execution_count": 14,
     "metadata": {},
     "output_type": "execute_result"
    }
   ],
   "source": [
    "'''\n",
    "Como se puede observar en el nuevo describe, ya no se tienen valores mínimos en las variables en las no tenia sentido\n",
    "tener un cero. Ya con este súper pequeño análisis de los datos, pasaremos a implementar el clasificador con bosques\n",
    "aleatorios.\n",
    "'''"
   ]
  },
  {
   "cell_type": "code",
   "execution_count": 15,
   "id": "93b7d204",
   "metadata": {},
   "outputs": [
    {
     "name": "stdout",
     "output_type": "stream",
     "text": [
      "\n",
      "-------------------------------\n",
      "    RANDOM FOREST CLASSIFIER     \n",
      "-------------------------------\n",
      "\n"
     ]
    }
   ],
   "source": [
    "print('\\n-------------------------------')\n",
    "print('    RANDOM FOREST CLASSIFIER     ')\n",
    "print('-------------------------------\\n')\n",
    "\n",
    "## Selección de las variables predictoras y objetivo\n",
    "x = df[['Pregnancies', 'Glucose', 'BloodPressure', 'SkinThickness', \n",
    "        'Insulin', 'BMI', 'DiabetesPedigreeFunction', 'Age']]\n",
    "y = df['Outcome']"
   ]
  },
  {
   "cell_type": "code",
   "execution_count": 16,
   "id": "b1dbb8bd",
   "metadata": {},
   "outputs": [
    {
     "data": {
      "text/plain": [
       "((313, 8), (79, 8), (313,), (79,))"
      ]
     },
     "execution_count": 16,
     "metadata": {},
     "output_type": "execute_result"
    }
   ],
   "source": [
    "## Separación de la base de datos en un set de entrenamiento y prueba\n",
    "X_train, x_test, Y_train, y_test = train_test_split(x, y, test_size = 0.2, random_state = 42)\n",
    "X_train.shape, x_test.shape, Y_train.shape, y_test.shape"
   ]
  },
  {
   "cell_type": "code",
   "execution_count": 17,
   "id": "fd44a1b2",
   "metadata": {},
   "outputs": [
    {
     "data": {
      "text/plain": [
       "RandomForestClassifier()"
      ]
     },
     "execution_count": 17,
     "metadata": {},
     "output_type": "execute_result"
    }
   ],
   "source": [
    "# Implementación del random forest classifier con los hiperparámetros default\n",
    "rfc = RandomForestClassifier()\n",
    "rfc.fit(X_train,Y_train) ## Entrenamiento del modelo"
   ]
  },
  {
   "cell_type": "code",
   "execution_count": 18,
   "id": "95d65d65",
   "metadata": {},
   "outputs": [],
   "source": [
    "## Se realizan las predicciones con el set de entrenamiento\n",
    "train_results = rfc.predict(X_train)"
   ]
  },
  {
   "cell_type": "code",
   "execution_count": 19,
   "id": "775d505e",
   "metadata": {},
   "outputs": [
    {
     "name": "stdout",
     "output_type": "stream",
     "text": [
      "\n",
      "Resultados de las predicciones (RFC) con el set de entrenamiento:\n",
      "MSE con el conjunto de entrenamiento: 0.0\n",
      "MAE con el conjunto de entrenamiento: 0.0\n",
      "Accuracy con el conjunto de prueba: 1.0\n",
      "[[210   0]\n",
      " [  0 103]]\n",
      "-----------------------------------------------------------\n"
     ]
    }
   ],
   "source": [
    "## Se obtienen algunas medidas de evaluación como el mse, mae, la exactitud y la matriz de confusión\n",
    "mse = mean_squared_error(train_results, Y_train)\n",
    "mae = mean_absolute_error(train_results, Y_train)\n",
    "\n",
    "print('\\nResultados de las predicciones (RFC) con el set de entrenamiento:')\n",
    "print('MSE con el conjunto de entrenamiento:', mse)\n",
    "print('MAE con el conjunto de entrenamiento:', mae)\n",
    "print(\"Accuracy con el conjunto de prueba:\", accuracy_score(Y_train, train_results)) ## Indica que tanto el modelo clasificó correctamente\n",
    "print(confusion_matrix(train_results, Y_train)) # Se muestra la matriz de confusión\n",
    "print('-----------------------------------------------------------')"
   ]
  },
  {
   "cell_type": "code",
   "execution_count": 20,
   "id": "d20da3cd",
   "metadata": {},
   "outputs": [
    {
     "data": {
      "text/plain": [
       "'\\nComo se puede observar en los resultados de la matriz de confusión y de algunas medidas como el accuracy, el mse y el\\nmae, el modelo es muy bueno para predecirse a si mismo, indicando de esta forma un posible overfitting.\\n\\nAhora se pasará a realizar las predicciones con el set de prueba.\\n'"
      ]
     },
     "execution_count": 20,
     "metadata": {},
     "output_type": "execute_result"
    }
   ],
   "source": [
    "'''\n",
    "Como se puede observar en los resultados de la matriz de confusión y de algunas medidas como el accuracy, el mse y el\n",
    "mae, el modelo es muy bueno para predecirse a si mismo, indicando de esta forma un posible overfitting.\n",
    "\n",
    "Ahora se pasará a realizar las predicciones con el set de prueba.\n",
    "'''"
   ]
  },
  {
   "cell_type": "code",
   "execution_count": 21,
   "id": "564e0423",
   "metadata": {},
   "outputs": [],
   "source": [
    "## Con los datos de prueba\n",
    "test_results = rfc.predict(x_test)"
   ]
  },
  {
   "cell_type": "code",
   "execution_count": 22,
   "id": "d72f6f19",
   "metadata": {},
   "outputs": [
    {
     "name": "stdout",
     "output_type": "stream",
     "text": [
      "\n",
      "Resultados de las predicciones (RFC) con el set de prueba:\n",
      "MSE con el conjunto de prueba: 0.24050632911392406\n",
      "MAE con el conjunto de prueba: 0.24050632911392406\n",
      "Accuracy con el conjunto de prueba: 0.759493670886076\n",
      "[[45 12]\n",
      " [ 7 15]]\n",
      "-----------------------------------------------------------\n"
     ]
    }
   ],
   "source": [
    "## Se obtienen algunas medidas de evaluación como el mse, mae, la exactitud y la matriz de confusión\n",
    "mse = mean_squared_error(test_results, y_test)\n",
    "mae = mean_absolute_error(test_results, y_test)\n",
    "\n",
    "print('\\nResultados de las predicciones (RFC) con el set de prueba:')\n",
    "print('MSE con el conjunto de prueba:', mse)\n",
    "print('MAE con el conjunto de prueba:', mae)\n",
    "print(\"Accuracy con el conjunto de prueba:\", accuracy_score(y_test, test_results)) ## Indica que tanto el modelo clasificó correctamente\n",
    "print(confusion_matrix(test_results, y_test)) # Se muestra la matriz de confusión\n",
    "print('-----------------------------------------------------------')"
   ]
  },
  {
   "cell_type": "code",
   "execution_count": 23,
   "id": "44c8f715",
   "metadata": {},
   "outputs": [
    {
     "data": {
      "text/plain": [
       "'\\nSe observa que la exactitud del modelo ya no es tan buena, pues al tener un overfitting, el modelo es malo para\\npredecir con nuevos registros. Sin embargo, si se habla del MSE y MAE se puede observar que estos no son tan grandes.\\n\\nAhora se pasará a implementar el mismo modelo de random forest, pero configurando los hiperparámetros con el objetivo\\nde mejorar al modelo y que éste realice mejores predicciones. \\n'"
      ]
     },
     "execution_count": 23,
     "metadata": {},
     "output_type": "execute_result"
    }
   ],
   "source": [
    "'''\n",
    "Se observa que la exactitud del modelo ya no es tan buena, pues al tener un overfitting, el modelo es malo para\n",
    "predecir con nuevos registros. Sin embargo, si se habla del MSE y MAE se puede observar que estos no son tan grandes.\n",
    "\n",
    "Ahora se pasará a implementar el mismo modelo de random forest, pero configurando los hiperparámetros con el objetivo\n",
    "de mejorar al modelo y que éste realice mejores predicciones. \n",
    "'''"
   ]
  },
  {
   "cell_type": "code",
   "execution_count": 24,
   "id": "4eda7bb4",
   "metadata": {},
   "outputs": [
    {
     "data": {
      "text/plain": [
       "RandomForestClassifier(criterion='entropy', max_depth=5, n_estimators=1000,\n",
       "                       random_state=42)"
      ]
     },
     "execution_count": 24,
     "metadata": {},
     "output_type": "execute_result"
    }
   ],
   "source": [
    "## Modificación de los hiperparámetros del modelo con el objetivo de mejorar el modelo\n",
    "rfc = RandomForestClassifier(n_estimators = 1000, max_depth = 5, criterion = 'entropy', random_state = 42)\n",
    "rfc.fit(X_train, Y_train) ## Entrenamiento del modelo"
   ]
  },
  {
   "cell_type": "code",
   "execution_count": 25,
   "id": "efbd312b",
   "metadata": {},
   "outputs": [],
   "source": [
    "## Se realizan las predicciones en el conjunto de entrenamiento\n",
    "train_results = rfc.predict(X_train)"
   ]
  },
  {
   "cell_type": "code",
   "execution_count": 26,
   "id": "9e23d20f",
   "metadata": {},
   "outputs": [
    {
     "name": "stdout",
     "output_type": "stream",
     "text": [
      "\n",
      "Resultados de las predicciones (RFC mejorado) con el set de entrenamiento:\n",
      "MSE con el conjunto de entrenamiento: 0.0926517571884984\n",
      "MAE con el conjunto de entrenamiento: 0.0926517571884984\n",
      "Accuracy con el conjunto de prueba: 0.9073482428115016\n",
      "[[201  20]\n",
      " [  9  83]]\n",
      "-----------------------------------------------------------\n"
     ]
    }
   ],
   "source": [
    "## Se obtienen algunas de las medidas de evaluación\n",
    "mse = mean_squared_error(train_results, Y_train)\n",
    "mae = mean_absolute_error(train_results, Y_train)\n",
    "\n",
    "print('\\nResultados de las predicciones (RFC mejorado) con el set de entrenamiento:')\n",
    "print('MSE con el conjunto de entrenamiento:', mse)\n",
    "print('MAE con el conjunto de entrenamiento:', mae)\n",
    "print(\"Accuracy con el conjunto de prueba:\", accuracy_score(Y_train, train_results)) ## Indica que tanto el modelo clasificó correctamente\n",
    "print(confusion_matrix(train_results, Y_train)) # Se muestra la matriz de confusión\n",
    "print('-----------------------------------------------------------')"
   ]
  },
  {
   "cell_type": "code",
   "execution_count": 27,
   "id": "066e4fde",
   "metadata": {},
   "outputs": [
    {
     "data": {
      "text/plain": [
       "'\\nDesde aquí se observa que este modelo mejoró algo en consideración al anterior, en el sentido de que ya no se \\ntiene un sobre ajuste de los datos, pues como se observa el modelo tiende fallar, poco, pero falla. Ahora probaremos\\nsu rendimiento con el conjunto de prueba.\\n'"
      ]
     },
     "execution_count": 27,
     "metadata": {},
     "output_type": "execute_result"
    }
   ],
   "source": [
    "'''\n",
    "Desde aquí se observa que este modelo mejoró algo en consideración al anterior, en el sentido de que ya no se \n",
    "tiene un sobre ajuste de los datos, pues como se observa el modelo tiende fallar, poco, pero falla. Ahora probaremos\n",
    "su rendimiento con el conjunto de prueba.\n",
    "'''"
   ]
  },
  {
   "cell_type": "code",
   "execution_count": 28,
   "id": "1a6fb01f",
   "metadata": {},
   "outputs": [],
   "source": [
    "## Con los datos de prueba\n",
    "test_results = rfc.predict(x_test)"
   ]
  },
  {
   "cell_type": "code",
   "execution_count": 29,
   "id": "ef5d185f",
   "metadata": {},
   "outputs": [
    {
     "name": "stdout",
     "output_type": "stream",
     "text": [
      "\n",
      "Resultados de las predicciones (RFC mejorado) con el set de prueba:\n",
      "MSE con el conjunto de prueba: 0.25316455696202533\n",
      "MAE con el conjunto de prueba: 0.25316455696202533\n",
      "Accuracy con el conjunto de prueba: 0.7468354430379747\n",
      "[[45 13]\n",
      " [ 7 14]]\n",
      "-----------------------------------------------------------\n"
     ]
    }
   ],
   "source": [
    "mse = mean_squared_error(test_results, y_test)\n",
    "mae = mean_absolute_error(test_results, y_test)\n",
    "\n",
    "print('\\nResultados de las predicciones (RFC mejorado) con el set de prueba:')\n",
    "print('MSE con el conjunto de prueba:', mse)\n",
    "print('MAE con el conjunto de prueba:', mae)\n",
    "print(\"Accuracy con el conjunto de prueba:\", accuracy_score(y_test, test_results)) ## Indica que tanto el modelo clasificó correctamente\n",
    "print(confusion_matrix(test_results, y_test)) # Se muestra la matriz de confusión\n",
    "print('-----------------------------------------------------------')"
   ]
  },
  {
   "cell_type": "code",
   "execution_count": 30,
   "id": "8b3cad43",
   "metadata": {},
   "outputs": [
    {
     "data": {
      "text/plain": [
       "'\\nFinalmente, se observa que en realidad el modelo tuvo una mejora, sin embargo esta no fue del todo buena, ya que\\nsolamente aumentó en 2% y de igual forma tanto el mae como el mse están más cercanos a 0. En la siguiente actividad\\nse realizará un análisis mucho más profundo de la evaluación del modelo con el objetivo de mejorar este mucho más.\\n\\nAhora, se pasa a implementar el modelo de regresión, por lo que se cambia la variable objetivo y las variables \\npredictoras.\\n'"
      ]
     },
     "execution_count": 30,
     "metadata": {},
     "output_type": "execute_result"
    }
   ],
   "source": [
    "'''\n",
    "Finalmente, se observa que en realidad el modelo tuvo una mejora, sin embargo esta no fue del todo buena, ya que\n",
    "solamente aumentó en 2% y de igual forma tanto el mae como el mse están más cercanos a 0. En la siguiente actividad\n",
    "se realizará un análisis mucho más profundo de la evaluación del modelo con el objetivo de mejorar este mucho más.\n",
    "\n",
    "Ahora, se pasa a implementar el modelo de regresión, por lo que se cambia la variable objetivo y las variables \n",
    "predictoras.\n",
    "'''"
   ]
  },
  {
   "cell_type": "code",
   "execution_count": 31,
   "id": "bd1c6fdd",
   "metadata": {},
   "outputs": [
    {
     "name": "stdout",
     "output_type": "stream",
     "text": [
      "\n",
      "-------------------------------\n",
      "    RANDOM FOREST REGRESSOR      \n",
      "-------------------------------\n",
      "\n"
     ]
    }
   ],
   "source": [
    "print('\\n-------------------------------')\n",
    "print('    RANDOM FOREST REGRESSOR      ')\n",
    "print('-------------------------------\\n')\n",
    "\n",
    "## Selección de las variables predictoras y objetivo\n",
    "x = df[['Pregnancies', 'Glucose', 'BloodPressure', 'SkinThickness', \n",
    "        'Insulin', 'DiabetesPedigreeFunction', 'Age', 'Outcome']]\n",
    "y = df['BMI']"
   ]
  },
  {
   "cell_type": "code",
   "execution_count": 32,
   "id": "31479a73",
   "metadata": {},
   "outputs": [
    {
     "data": {
      "text/plain": [
       "((313, 8), (79, 8), (313,), (79,))"
      ]
     },
     "execution_count": 32,
     "metadata": {},
     "output_type": "execute_result"
    }
   ],
   "source": [
    "## Separación de la base de datos en un set de entrenamiento y prueba\n",
    "X_train, x_test, Y_train, y_test = train_test_split(x, y, test_size = 0.2, random_state = 42)\n",
    "X_train.shape, x_test.shape, Y_train.shape, y_test.shape"
   ]
  },
  {
   "cell_type": "code",
   "execution_count": 33,
   "id": "0d50005b",
   "metadata": {},
   "outputs": [
    {
     "data": {
      "text/plain": [
       "RandomForestRegressor()"
      ]
     },
     "execution_count": 33,
     "metadata": {},
     "output_type": "execute_result"
    }
   ],
   "source": [
    "# Implementación del random forest regressor con los hiperparámetros default\n",
    "rfr = RandomForestRegressor()\n",
    "rfr.fit(X_train, Y_train) ## Entrenamiento del modelo"
   ]
  },
  {
   "cell_type": "code",
   "execution_count": 34,
   "id": "c00dbcba",
   "metadata": {},
   "outputs": [],
   "source": [
    "## Se realizan las predicciones con el set de entrenamiento\n",
    "train_results = rfr.predict(X_train)"
   ]
  },
  {
   "cell_type": "code",
   "execution_count": 35,
   "id": "0c8f70e7",
   "metadata": {},
   "outputs": [
    {
     "name": "stdout",
     "output_type": "stream",
     "text": [
      "\n",
      "Resultados de las predicciones (RFR) con el set de entrenamiento:\n",
      "MSE con el conjunto de entrenamiento: 3.8834452044728307\n",
      "MAE con el conjunto de entrenamiento: 1.4800670926517552\n",
      "El coeficiente R^2 con el conjunto de entrenamiento: 0.8846568125490171\n",
      "-----------------------------------------------------------\n"
     ]
    }
   ],
   "source": [
    "## Se obtienen algunas medidas de evaluación como el mse, mae, la exactitud y la matriz de confusión\n",
    "mse = mean_squared_error(train_results, Y_train)\n",
    "mae = mean_absolute_error(train_results, Y_train)\n",
    "r2 = r2_score(train_results, Y_train)\n",
    "\n",
    "print('\\nResultados de las predicciones (RFR) con el set de entrenamiento:')\n",
    "print('MSE con el conjunto de entrenamiento:', mse)\n",
    "print('MAE con el conjunto de entrenamiento:', mae)\n",
    "print('El coeficiente R^2 con el conjunto de entrenamiento:', r2)\n",
    "print('-----------------------------------------------------------')"
   ]
  },
  {
   "cell_type": "code",
   "execution_count": 36,
   "id": "8db130a8",
   "metadata": {},
   "outputs": [
    {
     "data": {
      "text/plain": [
       "'\\nAl tratarse de un modelo de regresión, no es posible obtener una matriz de confusión, sin embargo si se pueden\\nobtener métricas como el mse, msa y el r^2. Como se observa, las predicciones cuentan con un error muy pequeñito,\\nmientras que el valor de r^2 es elevado, sugiriendo así un buen modelo. Sin embargo, se pasará a evaluar el modelo\\ncon el conjunto de entrenamiento\\n'"
      ]
     },
     "execution_count": 36,
     "metadata": {},
     "output_type": "execute_result"
    }
   ],
   "source": [
    "'''\n",
    "Al tratarse de un modelo de regresión, no es posible obtener una matriz de confusión, sin embargo si se pueden\n",
    "obtener métricas como el mse, msa y el r^2. Como se observa, las predicciones cuentan con un error muy pequeñito,\n",
    "mientras que el valor de r^2 es elevado, sugiriendo así un buen modelo. Sin embargo, se pasará a evaluar el modelo\n",
    "con el conjunto de entrenamiento\n",
    "'''"
   ]
  },
  {
   "cell_type": "code",
   "execution_count": 37,
   "id": "77c6120a",
   "metadata": {},
   "outputs": [],
   "source": [
    "## Con los datos de prueba\n",
    "test_results = rfr.predict(x_test)"
   ]
  },
  {
   "cell_type": "code",
   "execution_count": 38,
   "id": "cdfc5abb",
   "metadata": {},
   "outputs": [
    {
     "name": "stdout",
     "output_type": "stream",
     "text": [
      "\n",
      "Resultados de las predicciones (RFR) con el set de prueba:\n",
      "MSE con el conjunto de prueba: 25.09730345569619\n",
      "MAE con el conjunto de prueba: 4.030645569620251\n",
      "El coeficiente R^2 con el conjunto de prueba: -0.08676894429710758\n",
      "-----------------------------------------------------------\n"
     ]
    }
   ],
   "source": [
    "mse = mean_squared_error(test_results, y_test)\n",
    "mae = mean_absolute_error(test_results, y_test)\n",
    "r2 = r2_score(test_results, y_test)\n",
    "\n",
    "print('\\nResultados de las predicciones (RFR) con el set de prueba:')\n",
    "print('MSE con el conjunto de prueba:', mse)\n",
    "print('MAE con el conjunto de prueba:', mae)\n",
    "print('El coeficiente R^2 con el conjunto de prueba:', r2)\n",
    "print('-----------------------------------------------------------')"
   ]
  },
  {
   "cell_type": "code",
   "execution_count": 39,
   "id": "1e9fb7ab",
   "metadata": {},
   "outputs": [
    {
     "data": {
      "text/plain": [
       "'\\nEn esta última evaluación del código, se obtiene observa que aumentó bastante tanto el MSE como el MAE,\\nademás de disminuir el valor de R^2. Esto nos habla que el modelo de regresión cuenta con un sobreajuste, pues\\ncuando se le dieron datos de entrenamiento realizó un muy buen trabajo, pero cuando se le da información nunca\\nantes vista, el modelo emperora mucha. Claro que esto se puede mejorar modificando los hiperparámetros. \\n'"
      ]
     },
     "execution_count": 39,
     "metadata": {},
     "output_type": "execute_result"
    }
   ],
   "source": [
    "'''\n",
    "En esta última evaluación del código, se obtiene observa que aumentó bastante tanto el MSE como el MAE,\n",
    "además de disminuir el valor de R^2. Esto nos habla que el modelo de regresión cuenta con un sobreajuste, pues\n",
    "cuando se le dieron datos de entrenamiento realizó un muy buen trabajo, pero cuando se le da información nunca\n",
    "antes vista, el modelo emperora mucha. Claro que esto se puede mejorar modificando los hiperparámetros. \n",
    "'''"
   ]
  },
  {
   "cell_type": "code",
   "execution_count": 40,
   "id": "dc8302bf",
   "metadata": {},
   "outputs": [
    {
     "data": {
      "text/plain": [
       "RandomForestRegressor(max_depth=5, n_estimators=1000, random_state=42)"
      ]
     },
     "execution_count": 40,
     "metadata": {},
     "output_type": "execute_result"
    }
   ],
   "source": [
    "## Modificación de los hiperparámetros del modelo con el objetivo de mejorar el modelo\n",
    "rfr = RandomForestRegressor(n_estimators = 1000, max_depth = 5, random_state = 42)\n",
    "rfr.fit(X_train, Y_train) ## Entrenamiento del modelo"
   ]
  },
  {
   "cell_type": "code",
   "execution_count": 41,
   "id": "0a92ec35",
   "metadata": {},
   "outputs": [],
   "source": [
    "## Se realizan las predicciones en el conjunto de entrenamiento\n",
    "train_results = rfr.predict(X_train)"
   ]
  },
  {
   "cell_type": "code",
   "execution_count": 42,
   "id": "22ea4ea1",
   "metadata": {},
   "outputs": [
    {
     "name": "stdout",
     "output_type": "stream",
     "text": [
      "\n",
      "Resultados de las predicciones (RFR mejorado) con el set de entrenamiento:\n",
      "MSE con el conjunto de entrenamiento: 12.946355218635052\n",
      "MAE con el conjunto de entrenamiento: 2.81802889397006\n",
      "El coeficiente R^2 con el conjunto de entrenamiento: 0.4937178814717149\n",
      "-----------------------------------------------------------\n"
     ]
    }
   ],
   "source": [
    "## Se obtienen algunas de las medidas de evaluación\n",
    "mse = mean_squared_error(train_results, Y_train)\n",
    "mae = mean_absolute_error(train_results, Y_train)\n",
    "r2 = r2_score(train_results, Y_train)\n",
    "\n",
    "print('\\nResultados de las predicciones (RFR mejorado) con el set de entrenamiento:')\n",
    "print('MSE con el conjunto de entrenamiento:', mse)\n",
    "print('MAE con el conjunto de entrenamiento:', mae)\n",
    "print('El coeficiente R^2 con el conjunto de entrenamiento:', r2)\n",
    "print('-----------------------------------------------------------')"
   ]
  },
  {
   "cell_type": "code",
   "execution_count": 43,
   "id": "2270513d",
   "metadata": {},
   "outputs": [],
   "source": [
    "## Con los datos de prueba\n",
    "test_results = rfr.predict(x_test)"
   ]
  },
  {
   "cell_type": "code",
   "execution_count": 44,
   "id": "cab0fb75",
   "metadata": {},
   "outputs": [
    {
     "name": "stdout",
     "output_type": "stream",
     "text": [
      "\n",
      "Resultados de las predicciones (RFC mejorado) con el set de prueba:\n",
      "MSE con el conjunto de prueba: 24.993522977226448\n",
      "MAE con el conjunto de prueba: 3.9945732263159197\n",
      "El coeficiente R^2 con el conjunto de entrenamiento: -0.2263439213151346\n",
      "-----------------------------------------------------------\n"
     ]
    }
   ],
   "source": [
    "mse = mean_squared_error(test_results, y_test)\n",
    "mae = mean_absolute_error(test_results, y_test)\n",
    "r2 = r2_score(test_results, y_test)\n",
    "\n",
    "print('\\nResultados de las predicciones (RFC mejorado) con el set de prueba:')\n",
    "print('MSE con el conjunto de prueba:', mse)\n",
    "print('MAE con el conjunto de prueba:', mae)\n",
    "print('El coeficiente R^2 con el conjunto de entrenamiento:', r2)\n",
    "print('-----------------------------------------------------------')"
   ]
  },
  {
   "cell_type": "code",
   "execution_count": null,
   "id": "673be34f",
   "metadata": {},
   "outputs": [],
   "source": [
    "'''\n",
    "Finalmente se observa que el modelo mejoró muy poco con respecto al anterior (antes del ajuste de hiperparámetros),\n",
    "concluyendo así que se tiene un modelo malo para predecir el BMI de los pacientes.\n",
    "'''"
   ]
  }
 ],
 "metadata": {
  "kernelspec": {
   "display_name": "Python 3",
   "language": "python",
   "name": "python3"
  },
  "language_info": {
   "codemirror_mode": {
    "name": "ipython",
    "version": 3
   },
   "file_extension": ".py",
   "mimetype": "text/x-python",
   "name": "python",
   "nbconvert_exporter": "python",
   "pygments_lexer": "ipython3",
   "version": "3.8.8"
  }
 },
 "nbformat": 4,
 "nbformat_minor": 5
}
